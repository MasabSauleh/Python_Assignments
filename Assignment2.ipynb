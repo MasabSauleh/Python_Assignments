{
  "nbformat": 4,
  "nbformat_minor": 0,
  "metadata": {
    "colab": {
      "provenance": []
    },
    "kernelspec": {
      "name": "python3",
      "display_name": "Python 3"
    },
    "language_info": {
      "name": "python"
    }
  },
  "cells": [
    {
      "cell_type": "markdown",
      "source": [
        "***Question1: Write a program to determine if a triangle is equilateral, isosceles, or scalene based on user input sides.***"
      ],
      "metadata": {
        "id": "J938oMvrWTXL"
      }
    },
    {
      "cell_type": "code",
      "execution_count": null,
      "metadata": {
        "colab": {
          "base_uri": "https://localhost:8080/"
        },
        "id": "lZHY9s4tMpbL",
        "outputId": "649212af-d4cc-471c-ddc6-01ed3a66d717"
      },
      "outputs": [
        {
          "output_type": "stream",
          "name": "stdout",
          "text": [
            "Enter Side 1: 6\n",
            "Enter Side 2: 6\n",
            "Enter Side 3: 6\n",
            "Result: It is an Equilateral Triangle!\n"
          ]
        }
      ],
      "source": [
        "side1 = int(input(\"Enter Side 1: \"))\n",
        "side2 = int(input(\"Enter Side 2: \"))\n",
        "side3 = int(input(\"Enter Side 3: \"))\n",
        "\n",
        "\n",
        "if (side1 + side2 > side3) and (side1 + side3 > side2) and (side2 + side3 > side1):\n",
        "    if side1 == side2 == side3:\n",
        "        print(\"Result: It is an Equilateral Triangle!\")\n",
        "    elif side1 == side2 or side1 == side3 or side2 == side3:\n",
        "        print(\"Result: It is an Isosceles Triangle!\")\n",
        "    else:\n",
        "        print(\"Result: It is a Scalene Triangle!\")\n",
        "else:\n",
        "    print(\"The sides don't make up a triangle\")"
      ]
    },
    {
      "cell_type": "markdown",
      "source": [
        "***Question2: Input marks of 5 subjects and decide whether the student passed (must score >33 in all) and their average percentage.***"
      ],
      "metadata": {
        "id": "orc07637VAKf"
      }
    },
    {
      "cell_type": "code",
      "source": [
        "Maths = int(input(\"Enter your Maths marks: \"))\n",
        "Physics = int(input(\"Enter your Physics marks: \"))\n",
        "Chemistry = int(input(\"Enter your Chemistry marks: \"))\n",
        "Biology = int(input(\"Enter your Biology marks: \"))\n",
        "Urdu = int(input(\"Enter your Urdu marks: \"))\n",
        "\n",
        "\n",
        "if Maths <= 33 or Physics <= 33 or Chemistry <= 33 or Biology <= 33 or Urdu <= 33:\n",
        "    print(\"Sorry, You have failed the exams.\")\n",
        "else:\n",
        "    print(\"Congrats! You have passed the exams! Hold up while we calculate your average marks.\")\n",
        "    Total = Maths + Physics + Chemistry + Biology + Urdu\n",
        "    Percentage = Total / 5\n",
        "    print('Your Average marks are', Percentage)"
      ],
      "metadata": {
        "colab": {
          "base_uri": "https://localhost:8080/"
        },
        "id": "nJ7QIq4uU_rd",
        "outputId": "19c49c1e-ca2e-43f8-939b-21fd5254e914"
      },
      "execution_count": null,
      "outputs": [
        {
          "output_type": "stream",
          "name": "stdout",
          "text": [
            "Enter your Maths marks: 89\n",
            "Enter your Physics marks: 97\n",
            "Enter your Chemistry marks: 68\n",
            "Enter your Biology marks: 87\n",
            "Enter your Urdu marks: 66\n",
            "Congrats! You have passed the exams! Hold up while we calculate your average marks.\n",
            "Your Average marks are 81.4\n"
          ]
        }
      ]
    },
    {
      "cell_type": "markdown",
      "source": [
        "***Question3: Count the frequency of characters in a string using a dictionary.***"
      ],
      "metadata": {
        "id": "HahWTMTnbj5W"
      }
    },
    {
      "cell_type": "code",
      "source": [
        "string = str(input(\"Enter your string: \"))\n",
        "frequency = {}\n",
        "\n",
        "for i in string:\n",
        "  if i in frequency:\n",
        "    frequency[i] += 1\n",
        "  else:\n",
        "    frequency[i] = 1\n",
        "print(\"Frequency:\", frequency)"
      ],
      "metadata": {
        "colab": {
          "base_uri": "https://localhost:8080/"
        },
        "id": "eUg6Y2URX7eP",
        "outputId": "9723b5ab-4536-4c1d-d1d5-d796fff6a8f8"
      },
      "execution_count": null,
      "outputs": [
        {
          "output_type": "stream",
          "name": "stdout",
          "text": [
            "Enter your string: saffan\n",
            "Frequency: {'s': 1, 'a': 2, 'f': 2, 'n': 1}\n"
          ]
        }
      ]
    },
    {
      "cell_type": "markdown",
      "source": [
        "***Question4: Convert two lists into a dictionary (one list of keys, one list of values).***"
      ],
      "metadata": {
        "id": "JaHpE1opeAHY"
      }
    },
    {
      "cell_type": "code",
      "source": [
        "subjects = ['Maths','Urdu', 'Physics']\n",
        "marks = [87, 80, 92]\n",
        "\n",
        "Dict = dict(zip(subjects, marks))\n",
        "print(Dict)\n",
        "\n",
        "#OR USING LOOP\n",
        "\n",
        "subjects = ['Maths','Urdu', 'Physics']\n",
        "marks = [87, 80, 92]\n",
        "\n",
        "for i in range(len(subjects)):\n",
        "  Dict.update({subjects[i]: marks[i]})\n",
        "print(Dict)"
      ],
      "metadata": {
        "colab": {
          "base_uri": "https://localhost:8080/"
        },
        "id": "jkEBVK4zfeWr",
        "outputId": "4d23d8c5-a840-4ebe-9366-bb53043a66ef"
      },
      "execution_count": null,
      "outputs": [
        {
          "output_type": "stream",
          "name": "stdout",
          "text": [
            "{'Maths': 87, 'Urdu': 80, 'Physics': 92}\n",
            "{'Maths': 87, 'Urdu': 80, 'Physics': 92}\n"
          ]
        }
      ]
    },
    {
      "cell_type": "markdown",
      "source": [
        "***Question5: Try converting a string to an integer and catch any value error if it fails.***"
      ],
      "metadata": {
        "id": "20E1FiNPiULB"
      }
    },
    {
      "cell_type": "code",
      "source": [
        "value = input()\n",
        "\n",
        "try:\n",
        "  value = int(value)\n",
        "  print(type(value))\n",
        "except Exception as e:\n",
        "  print ('An error occured: ', e)"
      ],
      "metadata": {
        "colab": {
          "base_uri": "https://localhost:8080/"
        },
        "id": "2qSS8dJ_hMlR",
        "outputId": "1b31617a-910b-443b-c828-4e60e3330d03"
      },
      "execution_count": null,
      "outputs": [
        {
          "output_type": "stream",
          "name": "stdout",
          "text": [
            "67\n",
            "<class 'int'>\n"
          ]
        }
      ]
    },
    {
      "cell_type": "markdown",
      "source": [
        "***Queston6: Handle a key error while accessing a non-existent key from a dictionary.***"
      ],
      "metadata": {
        "id": "VyhH-aYemnry"
      }
    },
    {
      "cell_type": "code",
      "source": [
        "Dict = {'Name':'Masab', 'Age': '15'}\n",
        "try:\n",
        "  print(Dict['Grade'])\n",
        "except KeyError:\n",
        "  print('KeyError occured')"
      ],
      "metadata": {
        "colab": {
          "base_uri": "https://localhost:8080/"
        },
        "id": "dh3TzBWEmyU3",
        "outputId": "89fbf195-f6e7-4d34-d640-ee721eef7f6f"
      },
      "execution_count": null,
      "outputs": [
        {
          "output_type": "stream",
          "name": "stdout",
          "text": [
            "KeyError occured\n"
          ]
        }
      ]
    },
    {
      "cell_type": "markdown",
      "source": [
        "***Question7: Use a try-except-finally block to open a file, read its contents, and close the file (even if an error occurs).***"
      ],
      "metadata": {
        "id": "-aDiSKmXrb3m"
      }
    },
    {
      "cell_type": "code",
      "source": [
        "file = None\n",
        "try:\n",
        "  file = open('note.txt', 'r')\n",
        "  content = file.read()\n",
        "  print (content)\n",
        "  print('File was read succesfully')\n",
        "except FileNotFoundError:\n",
        "  print('An error occured: File not found')\n",
        "except Exception as e:\n",
        "  print ('An unknown error occured', e)\n",
        "finally:\n",
        "  try:\n",
        "    file.close()\n",
        "    print('File closed')\n",
        "  except:\n",
        "    print(\"File didn't existed, hence it can't be closed\")\n"
      ],
      "metadata": {
        "colab": {
          "base_uri": "https://localhost:8080/"
        },
        "id": "Jt6b_aNDrpJe",
        "outputId": "4456b6b4-2bf6-4995-c301-222ecfe0fe11"
      },
      "execution_count": null,
      "outputs": [
        {
          "output_type": "stream",
          "name": "stdout",
          "text": [
            "Hala\n",
            "File was read succesfully\n",
            "File closed\n"
          ]
        }
      ]
    },
    {
      "cell_type": "markdown",
      "source": [
        "***Question8: Nest multiple try-except blocks to handle file read and data conversion.***"
      ],
      "metadata": {
        "id": "0VX35o-ove7o"
      }
    },
    {
      "cell_type": "code",
      "source": [
        "try:\n",
        "    file = open(\"data.txt\", \"r\")  # trying to open the file\n",
        "    try:\n",
        "        content = file.read()  # reading file content\n",
        "        number = int(content)  # converting content to integer\n",
        "        print(\"Number in file:\", number)\n",
        "    except ValueError:\n",
        "        print(\"Error: Couldn't convert the file content to an integer.\")\n",
        "    file.close()  # closing the file\n",
        "except FileNotFoundError:\n",
        "    print(\"Error: The file doesn't exist.\")\n",
        "except IOError:\n",
        "    print(\"Error: Something went wrong while reading the file.\")"
      ],
      "metadata": {
        "id": "VJupGfuevpma",
        "colab": {
          "base_uri": "https://localhost:8080/"
        },
        "outputId": "f2dc2e5c-3c3a-44f7-f712-fe74059646aa"
      },
      "execution_count": 1,
      "outputs": [
        {
          "output_type": "stream",
          "name": "stdout",
          "text": [
            "Error: The file doesn't exist.\n"
          ]
        }
      ]
    },
    {
      "cell_type": "markdown",
      "source": [
        "**END**"
      ],
      "metadata": {
        "id": "ogUTpIYFrQwi"
      }
    }
  ]
}