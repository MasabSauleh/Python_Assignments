{
  "nbformat": 4,
  "nbformat_minor": 0,
  "metadata": {
    "colab": {
      "provenance": []
    },
    "kernelspec": {
      "name": "python3",
      "display_name": "Python 3"
    },
    "language_info": {
      "name": "python"
    }
  },
  "cells": [
    {
      "cell_type": "markdown",
      "source": [
        "***For loop***"
      ],
      "metadata": {
        "id": "SKzHMaticpLv"
      }
    },
    {
      "cell_type": "code",
      "execution_count": 6,
      "metadata": {
        "colab": {
          "base_uri": "https://localhost:8080/"
        },
        "id": "4dje1FLGcUXf",
        "outputId": "6b7c469a-0c91-47f8-a832-9ebde8c906fe"
      },
      "outputs": [
        {
          "output_type": "stream",
          "name": "stdout",
          "text": [
            "Numbers divisible by both 3 and 5:  [15, 30, 45, 60, 75, 90]\n"
          ]
        }
      ],
      "source": [
        "#Question1: Create a list of all numbers between 1 and 100 that are divisible by both 3 and 5.\n",
        "\n",
        "numbers = []\n",
        "\n",
        "for i in range(1,101):\n",
        "  if i%3 == 0 and i%5 == 0:\n",
        "    numbers.append(i)\n",
        "\n",
        "print (\"Numbers divisible by both 3 and 5: \", numbers)"
      ]
    },
    {
      "cell_type": "code",
      "source": [
        "#Question2: Write a loop that replaces all spaces in a string with underscores.\n",
        "\n",
        "text = \"Bahria College Karsaz\"\n",
        "result = \"\"\n",
        "\n",
        "for i in text:\n",
        "    if i == \" \":\n",
        "        result += \"_\"\n",
        "    else:\n",
        "        result += i\n",
        "\n",
        "print(result)"
      ],
      "metadata": {
        "colab": {
          "base_uri": "https://localhost:8080/"
        },
        "id": "-XezqhD5fOp9",
        "outputId": "0f8188bb-c0d5-47b2-fb5c-f5a1e47f616d"
      },
      "execution_count": 10,
      "outputs": [
        {
          "output_type": "stream",
          "name": "stdout",
          "text": [
            "Bahria_College_Karsaz\n"
          ]
        }
      ]
    },
    {
      "cell_type": "code",
      "source": [
        "#Question3: Check which elements are common in two lists.\n",
        "\n",
        "#FIRST METHOD (duplicates allowed)\n",
        "\n",
        "list_1 = [1,2,5,7,4,3,2,5,6]\n",
        "list_2 = [5,5,7,3,2,1,5,7,4]\n",
        "common_elements = []\n",
        "for i in list_1:\n",
        "  if i in list_2:\n",
        "    common_elements.append(i)\n",
        "for i in list_2:\n",
        "  if i in list_1:\n",
        "    common_elements.append(i)\n",
        "\n",
        "print (common_elements)\n",
        "\n",
        "#SECOND METHOD (duplicates not allowed)\n",
        "\n",
        "list_1 = [1, 2, 5, 7, 4, 3, 2, 5, 6]\n",
        "list_2 = [5, 5, 7, 3, 2, 1, 5, 7, 4]\n",
        "common_elements = []\n",
        "\n",
        "for i in list_1:\n",
        "    if i in list_2:\n",
        "        if i not in common_elements:\n",
        "            common_elements.append(i)\n",
        "\n",
        "print(common_elements)"
      ],
      "metadata": {
        "colab": {
          "base_uri": "https://localhost:8080/"
        },
        "id": "SPzcwB9-gjt8",
        "outputId": "a1acc080-02a5-48a2-8055-710cce621023"
      },
      "execution_count": 15,
      "outputs": [
        {
          "output_type": "stream",
          "name": "stdout",
          "text": [
            "[1, 2, 5, 7, 4, 3, 2, 5, 5, 5, 7, 3, 2, 1, 5, 7, 4]\n",
            "[1, 2, 5, 7, 4, 3]\n"
          ]
        }
      ]
    },
    {
      "cell_type": "markdown",
      "source": [
        "***While loop***"
      ],
      "metadata": {
        "id": "zJ1f06djyYsX"
      }
    },
    {
      "cell_type": "code",
      "source": [
        "#Question1:Keep removing elements from a list one by one and print the list each time, until it becomes empty.\n",
        "\n",
        "abc = [1,2,3,4,5,6,7,8]\n",
        "print (abc)\n",
        "while abc:\n",
        "  abc.pop(0)\n",
        "  print (abc)"
      ],
      "metadata": {
        "colab": {
          "base_uri": "https://localhost:8080/"
        },
        "id": "NPDRtD2JyYZQ",
        "outputId": "b69ce1ce-072d-4257-cf4e-fefc82585e26"
      },
      "execution_count": 18,
      "outputs": [
        {
          "output_type": "stream",
          "name": "stdout",
          "text": [
            "[1, 2, 3, 4, 5, 6, 7, 8]\n",
            "[2, 3, 4, 5, 6, 7, 8]\n",
            "[3, 4, 5, 6, 7, 8]\n",
            "[4, 5, 6, 7, 8]\n",
            "[5, 6, 7, 8]\n",
            "[6, 7, 8]\n",
            "[7, 8]\n",
            "[8]\n",
            "[]\n"
          ]
        }
      ]
    },
    {
      "cell_type": "code",
      "source": [
        "#Question2: Start from a number and keep dividing it by 2 until it becomes less than 1. Print each value.\n",
        "\n",
        "numb = 100\n",
        "while numb > 1:\n",
        "  print (numb)\n",
        "  numb = numb/2"
      ],
      "metadata": {
        "colab": {
          "base_uri": "https://localhost:8080/"
        },
        "id": "e5FmPlDY3mfx",
        "outputId": "fb89a706-d0a2-4260-bd7f-13e0b0dc8c91"
      },
      "execution_count": 22,
      "outputs": [
        {
          "output_type": "stream",
          "name": "stdout",
          "text": [
            "100\n",
            "50.0\n",
            "25.0\n",
            "12.5\n",
            "6.25\n",
            "3.125\n",
            "1.5625\n"
          ]
        }
      ]
    },
    {
      "cell_type": "code",
      "source": [
        "#Question3: Ask the user to enter numbers until the total sum crosses 100.\n",
        "\n",
        "total = 0\n",
        "\n",
        "while total <= 100:\n",
        "    num = int(input(\"Enter a number: \"))\n",
        "    total += num\n",
        "\n",
        "print(\"Total crossed 100! Final total:\", total)"
      ],
      "metadata": {
        "colab": {
          "base_uri": "https://localhost:8080/"
        },
        "id": "hW8fXza04Ww6",
        "outputId": "4c8569cc-8687-407a-c4c7-399b39ff1c67"
      },
      "execution_count": 25,
      "outputs": [
        {
          "output_type": "stream",
          "name": "stdout",
          "text": [
            "Enter a number: 77\n",
            "Enter a number: 77\n",
            "Total crossed 100! Final total: 154\n"
          ]
        }
      ]
    }
  ]
}